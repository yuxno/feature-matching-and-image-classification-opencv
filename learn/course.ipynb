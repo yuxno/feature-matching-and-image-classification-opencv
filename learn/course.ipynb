{
 "cells": [
  {
   "cell_type": "markdown",
   "metadata": {},
   "source": [
    "installation"
   ]
  },
  {
   "cell_type": "code",
   "execution_count": 1,
   "metadata": {},
   "outputs": [],
   "source": [
    "# pip install opencv-python\n",
    "# # # main cv core without extra modules like sift, so run next command\n",
    "# pip install opencv-contrib-python\n",
    "# # # numpy\n",
    "# pip install numpy\n",
    "# # #  Install Matplotlib (For Displaying Images)\n",
    "# pip install matplotlib\n"
   ]
  },
  {
   "cell_type": "markdown",
   "metadata": {},
   "source": [
    "loading and displaying"
   ]
  },
  {
   "cell_type": "code",
   "execution_count": 6,
   "metadata": {},
   "outputs": [
    {
     "name": "stdout",
     "output_type": "stream",
     "text": [
      "[[[ 50  66 109]\n",
      "  [ 49  65 108]\n",
      "  [ 49  65 108]\n",
      "  ...\n",
      "  [117  81  73]\n",
      "  [114  79  69]\n",
      "  [115  80  70]]\n",
      "\n",
      " [[ 49  65 108]\n",
      "  [ 49  65 108]\n",
      "  [ 48  64 107]\n",
      "  ...\n",
      "  [118  82  74]\n",
      "  [114  79  69]\n",
      "  [115  80  70]]\n",
      "\n",
      " [[ 49  65 108]\n",
      "  [ 48  64 107]\n",
      "  [ 48  64 107]\n",
      "  ...\n",
      "  [118  82  74]\n",
      "  [114  79  69]\n",
      "  [116  81  71]]\n",
      "\n",
      " ...\n",
      "\n",
      " [[ 48  34  36]\n",
      "  [ 48  34  36]\n",
      "  [ 48  34  36]\n",
      "  ...\n",
      "  [ 60  46  48]\n",
      "  [ 60  46  48]\n",
      "  [ 60  46  48]]\n",
      "\n",
      " [[ 48  34  36]\n",
      "  [ 48  34  36]\n",
      "  [ 48  34  36]\n",
      "  ...\n",
      "  [ 59  45  47]\n",
      "  [ 59  45  47]\n",
      "  [ 59  45  47]]\n",
      "\n",
      " [[ 48  34  36]\n",
      "  [ 48  34  36]\n",
      "  [ 48  34  36]\n",
      "  ...\n",
      "  [ 58  44  46]\n",
      "  [ 58  44  46]\n",
      "  [ 58  44  46]]]\n"
     ]
    }
   ],
   "source": [
    "import cv2\n",
    "\n",
    "img = cv2.imread('cat.jpg')\n",
    "\n",
    "cv2.imshow('cat', img)\n",
    "\n",
    "print(img)\n",
    "cv2.waitKey(0)\n",
    "cv2.destroyAllWindows()"
   ]
  },
  {
   "cell_type": "markdown",
   "metadata": {},
   "source": [
    "convert to grayscale"
   ]
  },
  {
   "cell_type": "code",
   "execution_count": null,
   "metadata": {},
   "outputs": [],
   "source": [
    "# gray_img = cv2.cvtColor(img, cv2.COLOR_BGR2GRAY)\n",
    "img = cv2.imread('cat.jpg', 0)\n",
    "\n",
    "# cv2.imshow('gray img', gray_img)\n",
    "cv2.imshow('gray img', img)\n",
    "cv2.waitKey(0)\n",
    "cv2.destroyAllWindows()"
   ]
  },
  {
   "cell_type": "markdown",
   "metadata": {},
   "source": [
    "resize an image"
   ]
  },
  {
   "cell_type": "code",
   "execution_count": 11,
   "metadata": {},
   "outputs": [],
   "source": [
    "resized_img = cv2.resize(img, (500,500))\n",
    "cv2.imshow('resized img', resized_img)\n",
    "cv2.waitKey(0)\n",
    "cv2.destroyAllWindows()\n"
   ]
  },
  {
   "cell_type": "markdown",
   "metadata": {},
   "source": [
    "edgedetection"
   ]
  },
  {
   "cell_type": "code",
   "execution_count": 20,
   "metadata": {},
   "outputs": [],
   "source": [
    "edges=cv2.Canny(resized_img,100,200)\n",
    "\n",
    "cv2.imshow('dfsfd ', edges)\n",
    "cv2.waitKey(0)\n",
    "cv2.destroyAllWindows()"
   ]
  },
  {
   "cell_type": "markdown",
   "metadata": {},
   "source": [
    "features detection"
   ]
  },
  {
   "cell_type": "markdown",
   "metadata": {},
   "source": [
    "sift"
   ]
  },
  {
   "cell_type": "code",
   "execution_count": 25,
   "metadata": {},
   "outputs": [
    {
     "name": "stdout",
     "output_type": "stream",
     "text": [
      "[[  0.   0.   0. ...   2.   1.   7.]\n",
      " [ 70.   7.   0. ...  28.   3.   1.]\n",
      " [ 20.  35.  10. ...  14.   0.   0.]\n",
      " ...\n",
      " [  0.  53. 146. ...   0.   0.   0.]\n",
      " [  1.   0.   0. ...   0.   1.  25.]\n",
      " [ 40.  18.  11. ...   0.   0.   0.]]\n"
     ]
    }
   ],
   "source": [
    "sift = cv2.SIFT_create()\n",
    "\n",
    "keypoints , descriptors = sift.detectAndCompute(resized_img, None)\n",
    "\n",
    "img_sift = cv2.drawKeypoints(resized_img, keypoints, None, color=(255,0,0))\n",
    "\n",
    "print(descriptors)\n",
    "# print(keypoints)\n",
    "cv2.imshow('keypoints ', img_sift)\n",
    "cv2.waitKey(0)\n",
    "cv2.destroyAllWindows()"
   ]
  },
  {
   "cell_type": "markdown",
   "metadata": {},
   "source": [
    "orb"
   ]
  },
  {
   "cell_type": "code",
   "execution_count": 27,
   "metadata": {},
   "outputs": [],
   "source": [
    "orb = cv2.ORB_create(nfeatures= 1000)\n",
    "\n",
    "kp , des = orb.detectAndCompute(resized_img, None)\n",
    "\n",
    "img_orb = cv2.drawKeypoints(resized_img ,kp , None, color= (0,255,0))\n",
    "\n",
    "cv2.imshow('keypoints ', img_orb)\n",
    "cv2.waitKey(0)\n",
    "cv2.destroyAllWindows()"
   ]
  },
  {
   "cell_type": "markdown",
   "metadata": {},
   "source": [
    "matching features"
   ]
  },
  {
   "cell_type": "code",
   "execution_count": 38,
   "metadata": {},
   "outputs": [
    {
     "name": "stdout",
     "output_type": "stream",
     "text": [
      "88\n"
     ]
    }
   ],
   "source": [
    "img1 = cv2.imread('PS4 resident evil2.jpg', 0)\n",
    "img2 = cv2.imread('re2.jpg', 0)\n",
    "\n",
    "orb = cv2.ORB_create(nfeatures= 1000)\n",
    "\n",
    "kp1 , des1 = orb.detectAndCompute(img1, None)\n",
    "kp2 , des2 = orb.detectAndCompute(img2, None)\n",
    "\n",
    "bf = cv2.BFMatcher()\n",
    "matches = bf.knnMatch(des1, des2 ,k=2)\n",
    "\n",
    "good = []\n",
    "for m, n in matches:\n",
    "    if m.distance < 0.75*n.distance:\n",
    "        good.append([m])\n",
    "        \n",
    "img3= cv2.drawMatchesKnn(img1, kp1, img2, kp2, good, None, flags=2)\n",
    "print(len(good))\n",
    "\n",
    "cv2.imshow('matches', cv2.resize(img3,(800,800)))\n",
    "cv2.waitKey(0)\n",
    "cv2.destroyAllWindows()"
   ]
  }
 ],
 "metadata": {
  "kernelspec": {
   "display_name": "Python 3",
   "language": "python",
   "name": "python3"
  },
  "language_info": {
   "codemirror_mode": {
    "name": "ipython",
    "version": 3
   },
   "file_extension": ".py",
   "mimetype": "text/x-python",
   "name": "python",
   "nbconvert_exporter": "python",
   "pygments_lexer": "ipython3",
   "version": "3.10.11"
  }
 },
 "nbformat": 4,
 "nbformat_minor": 2
}
